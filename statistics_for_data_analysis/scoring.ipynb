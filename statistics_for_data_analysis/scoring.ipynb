{
 "cells": [
  {
   "cell_type": "code",
   "execution_count": 124,
   "metadata": {},
   "outputs": [
    {
     "name": "stdout",
     "output_type": "stream",
     "text": [
      "Populating the interactive namespace from numpy and matplotlib\n"
     ]
    }
   ],
   "source": [
    "import pandas as pd\n",
    "import numpy as np\n",
    "import seaborn as sns\n",
    "from scipy import stats\n",
    "import matplotlib.pyplot as plt\n",
    "%pylab inline"
   ]
  },
  {
   "cell_type": "code",
   "execution_count": 125,
   "metadata": {},
   "outputs": [],
   "source": [
    "df = pd.read_csv(\"credit_card_default_analysis.csv\")"
   ]
  },
  {
   "cell_type": "code",
   "execution_count": 126,
   "metadata": {},
   "outputs": [],
   "source": [
    "df_0 = df[df.default == 0]"
   ]
  },
  {
   "cell_type": "code",
   "execution_count": 127,
   "metadata": {},
   "outputs": [],
   "source": [
    "df_1 = df[df.default == 1]"
   ]
  },
  {
   "cell_type": "markdown",
   "metadata": {},
   "source": [
    "Размер кредитного лимита (LIMIT_BAL). В двух группах, тех людей, кто вернул кредит (default = 0) и тех, кто его не вернул (default = 1) проверьте гипотезы: a) о равенстве медианных значений кредитного лимита с помощью подходящей интервальной оценки b) о равенстве распределений с помощью одного из подходящих непараметрических критериев проверки равенства средних. Значимы ли полученные результаты с практической точки зрения ?"
   ]
  },
  {
   "cell_type": "code",
   "execution_count": 128,
   "metadata": {},
   "outputs": [
    {
     "data": {
      "text/plain": [
       "([array([5.236e+03, 3.578e+03, 3.077e+03, 3.268e+03, 2.425e+03, 1.822e+03,\n",
       "         1.049e+03, 1.322e+03, 4.950e+02, 9.090e+02, 6.500e+01, 4.500e+01,\n",
       "         3.500e+01, 1.800e+01, 1.400e+01, 5.000e+00, 0.000e+00, 0.000e+00,\n",
       "         0.000e+00, 1.000e+00]),\n",
       "  array([2.440e+03, 1.244e+03, 8.250e+02, 7.100e+02, 4.800e+02, 3.320e+02,\n",
       "         1.570e+02, 2.310e+02, 7.800e+01, 1.160e+02, 1.100e+01, 6.000e+00,\n",
       "         2.000e+00, 1.000e+00, 3.000e+00, 0.000e+00, 0.000e+00, 0.000e+00,\n",
       "         0.000e+00, 0.000e+00])],\n",
       " array([  10000.,   59500.,  109000.,  158500.,  208000.,  257500.,\n",
       "         307000.,  356500.,  406000.,  455500.,  505000.,  554500.,\n",
       "         604000.,  653500.,  703000.,  752500.,  802000.,  851500.,\n",
       "         901000.,  950500., 1000000.]),\n",
       " <a list of 2 Lists of Patches objects>)"
      ]
     },
     "execution_count": 128,
     "metadata": {},
     "output_type": "execute_result"
    },
    {
     "data": {
      "image/png": "[encoded data removed]",
      "text/plain": [
       "<Figure size 432x288 with 1 Axes>"
      ]
     },
     "metadata": {
      "needs_background": "light"
     },
     "output_type": "display_data"
    }
   ],
   "source": [
    "pylab.hist([df_0.LIMIT_BAL, df_1.LIMIT_BAL], 20, label = [\"0\", \"1\"])"
   ]
  },
  {
   "cell_type": "markdown",
   "metadata": {},
   "source": [
    "Видим, что кредитный лимит у тех, кто отдал кредит - выше. В выборке много повторяющихся значений - поэтому используем \n",
    "перестановочный критерий для независимых выборок."
   ]
  },
  {
   "cell_type": "code",
   "execution_count": 129,
   "metadata": {},
   "outputs": [],
   "source": [
    "def get_bootstrap_samples(data, n_samples):\n",
    "    data_length = len(data)\n",
    "    indices = np.random.randint(0, data_length, (n_samples, data_length))\n",
    "    return data[indices]\n",
    "def stat_intervals(stat, alpha):\n",
    "    boundaries = np.percentile(stat, [100 * alpha / 2., 100 * (1 - alpha / 2.)])\n",
    "    return boundaries\n",
    "def median_conf_int(data, n_samples = 1000, alpha = 0.05):\n",
    "    median = np.median(data)\n",
    "    medians = map(lambda samples: np.median(samples), get_bootstrap_samples(data, n_samples))\n",
    "    confint = stat_intervals(medians, alpha)\n",
    "    return (median, confint)\n",
    "def diff_median_conf_int(data_1, data_2, n_samples, alpha):\n",
    "    median_1 = map(lambda samples: np.median(samples), get_bootstrap_samples(data_1, n_samples))\n",
    "    median_2 = map(lambda samples: np.median(samples), get_bootstrap_samples(data_2, n_samples))\n",
    "    return stat_intervals(map(lambda (s_median,d_median): s_median-d_median, zip(median_1, median_2)), alpha)"
   ]
  },
  {
   "cell_type": "code",
   "execution_count": 130,
   "metadata": {},
   "outputs": [],
   "source": [
    "n_samples = 1000\n",
    "alpha = 0.05\n",
    "df_0_limit_confint = median_conf_int(df_0[\"LIMIT_BAL\"].values, n_samples, alpha)\n",
    "df_1_limit_confint = median_conf_int(df_1[\"LIMIT_BAL\"].values, n_samples, alpha)\n",
    "median_diff = diff_median_conf_int(df_0[\"LIMIT_BAL\"].values, df_1[\"LIMIT_BAL\"].values, n_samples, alpha)"
   ]
  },
  {
   "cell_type": "code",
   "execution_count": 131,
   "metadata": {},
   "outputs": [
    {
     "name": "stdout",
     "output_type": "stream",
     "text": [
      "df_0 median: 150000.0000\t Confidence interval: [150000. 150000.]\n",
      "df_1 median: 90000.0000\t Confidence interval: [80000. 90000.]\n",
      "Difference confidince interval: [60000. 70000.]\n"
     ]
    }
   ],
   "source": [
    "print \"df_0 median: %.4f\\t Confidence interval: %s\" % df_0_limit_confint\n",
    "print \"df_1 median: %.4f\\t Confidence interval: %s\" % df_1_limit_confint\n",
    "print \"Difference confidince interval: %s\" % median_diff"
   ]
  },
  {
   "cell_type": "markdown",
   "metadata": {},
   "source": [
    "Доверительные интервалы не пересекаются. Интервал разницы медиан далеко отстоит от нуля. Медиана лимита для вернувших кредит \n",
    "значимо больше."
   ]
  },
  {
   "cell_type": "code",
   "execution_count": 132,
   "metadata": {},
   "outputs": [],
   "source": [
    "import itertools\n",
    "def permutation_t_stat_ind(sample1, sample2):\n",
    "    return np.median(sample1) - np.median(sample2)\n",
    "def get_random_combinations(n1, n2, max_combinations):\n",
    "    index = range(n1 + n2)\n",
    "    indices = set([tuple(index)])\n",
    "    for i in range(max_combinations - 1):\n",
    "        np.random.shuffle(index)\n",
    "        indices.add(tuple(index))\n",
    "    return [(index[:n1], index[n1:]) for index in indices]\n",
    "def permutation_zero_dist_ind(sample1, sample2, max_combinations = None):\n",
    "    joined_sample = np.hstack((sample1, sample2))\n",
    "    n1 = len(sample1)\n",
    "    n = len(joined_sample)\n",
    "    \n",
    "    if max_combinations:\n",
    "        indices = get_random_combinations(n1, len(sample2), max_combinations)\n",
    "    else:\n",
    "        indices = [(list(index), filter(lambda i: i not in index, range(n))) \\\n",
    "                    for index in itertools.combinations(range(n), n1)]\n",
    "    \n",
    "    distr = [joined_sample[list(i[0])].mean() - joined_sample[list(i[1])].mean() \\\n",
    "             for i in indices]\n",
    "    return distr\n",
    "def permutation_test(sample1, sample2, max_permutations = None, alternative = 'two-sided'):\n",
    "    if alternative not in ('two-sided', 'less', 'greater'):\n",
    "        raise ValueError(\"alternative not recognized\\n\"\n",
    "                         \"should be 'two-sided', 'less' or 'greater'\")\n",
    "    \n",
    "    t_stat = permutation_t_stat_ind(sample1, sample2)\n",
    "    \n",
    "    zero_distr = permutation_zero_dist_ind(sample1, sample2, max_permutations)\n",
    "    \n",
    "    if alternative == 'two-sided':\n",
    "        return sum([1. if abs(x) >= abs(t_stat) else 0. for x in zero_distr]) / len(zero_distr)\n",
    "    \n",
    "    if alternative == 'less':\n",
    "        return sum([1. if x <= t_stat else 0. for x in zero_distr]) / len(zero_distr)\n",
    "\n",
    "    if alternative == 'greater':\n",
    "        return sum([1. if x >= t_stat else 0. for x in zero_distr]) / len(zero_distr)"
   ]
  },
  {
   "cell_type": "code",
   "execution_count": 133,
   "metadata": {},
   "outputs": [
    {
     "name": "stdout",
     "output_type": "stream",
     "text": [
      "p-value 0.0000\n"
     ]
    }
   ],
   "source": [
    "print \"p-value %.4f\" % permutation_test(df_0[\"LIMIT_BAL\"].values, df_1[\"LIMIT_BAL\"].values, \n",
    "                                                               max_permutations=1000, alternative=\"two-sided\")\n"
   ]
  },
  {
   "cell_type": "markdown",
   "metadata": {},
   "source": [
    "Значение p-value очень малое - гипотеза о равенстве распределений отвергается."
   ]
  },
  {
   "cell_type": "markdown",
   "metadata": {},
   "source": [
    "Пол (SEX): Проверьте гипотезу о том, что гендерный состав группы людей вернувших и не вернувших кредит отличается. \n",
    "Хорошо, если вы предоставите несколько различных решений этой задачи (с помощью доверительного интервала и подходящего \n",
    "статистического критерия)"
   ]
  },
  {
   "cell_type": "code",
   "execution_count": 134,
   "metadata": {},
   "outputs": [],
   "source": [
    "cont_table = np.array([[((df.SEX == 1) & (df.default == 0)).sum(), ((df.SEX == 1) & (df.default == 1)).sum()], \n",
    "        [((df.SEX == 2) & (df.default == 0)).sum(), ((df.SEX == 2) & (df.default == 1)).sum()]])"
   ]
  },
  {
   "cell_type": "code",
   "execution_count": 135,
   "metadata": {},
   "outputs": [
    {
     "data": {
      "image/png": "[encoded data removed]",
      "text/plain": [
       "<Figure size 432x288 with 1 Axes>"
      ]
     },
     "metadata": {
      "needs_background": "light"
     },
     "output_type": "display_data"
    }
   ],
   "source": [
    "for (index, name) in enumerate([\"Men\", \"Women\"]):\n",
    "    column_counts = map(lambda cell: float(cell), cont_table[index]) \n",
    "    for (column_count,column_name) in zip(column_counts, [\"0\", \"1\"]):\n",
    "        pylab.bar(index, column_count/sum(column_counts), label = (\"%s %s (%.0f)\" % (name, column_name, column_count)))\n",
    "pylab.legend()\n",
    "pylab.show()\n",
    "#bbox_to_anchor=(1.05, 1), loc=2, borderaxespad=0."
   ]
  },
  {
   "cell_type": "markdown",
   "metadata": {},
   "source": [
    "Визуально кажется, что доля мужчин вернувших кредит меньше доли женщин вернувших кредит."
   ]
  },
  {
   "cell_type": "code",
   "execution_count": 136,
   "metadata": {},
   "outputs": [],
   "source": [
    "def proportions_confint_diff(first_vector, second_vector, alpha = 0.05):\n",
    "    count1 = float(len(first_vector))\n",
    "    count2 = float(len(second_vector))\n",
    "    p1 = float(len(filter(lambda x: x == 1, first_vector)))/count1\n",
    "    p2 = float(len(filter(lambda x: x == 1, second_vector)))/count2\n",
    "    z = stats.norm.ppf(1. - alpha / 2.)\n",
    "\n",
    "    left_boundary = (p1 - p2) - z * np.sqrt(p1 * (1. - p1)/ count1 + p2 * (1 - p2)/ count2)\n",
    "    right_boundary = (p1 - p2) + z * np.sqrt(p1 * (1. - p1)/ count1 + p2 * (1 - p2)/ count2)\n",
    "    \n",
    "    return (left_boundary, right_boundary)\n",
    "\n",
    "def proportions_diff_z_stat_ind(sample1, sample2):\n",
    "    n1 = len(sample1)\n",
    "    n2 = len(sample2)\n",
    "    \n",
    "    p1 = float(len(filter(lambda x: x == 1, sample1))) / n1\n",
    "    p2 = float(len(filter(lambda x: x == 1, sample2))) / n2 \n",
    "    P = float(p1*n1 + p2*n2) / (n1 + n2)\n",
    "    \n",
    "    return (p1 - p2) / np.sqrt(P * (1 - P) * (1. / n1 + 1. / n2))\n",
    "\n",
    "def proportions_diff_z_test(sample1, sample2, alternative = 'two-sided'):\n",
    "    z_stat = proportions_diff_z_stat_ind(sample1, sample2)\n",
    "    if alternative not in ('two-sided', 'less', 'greater'):\n",
    "        raise ValueError(\"alternative not recognized\\n\"\n",
    "                         \"should be 'two-sided', 'less' or 'greater'\")\n",
    "    \n",
    "    if alternative == 'two-sided':\n",
    "        return 2 * (1 - stats.norm.cdf(np.abs(z_stat)))\n",
    "    \n",
    "    if alternative == 'less':\n",
    "        return stats.norm.cdf(z_stat)\n",
    "\n",
    "    if alternative == 'greater':\n",
    "        return 1 - stats.norm.cdf(z_stat)"
   ]
  },
  {
   "cell_type": "code",
   "execution_count": 137,
   "metadata": {},
   "outputs": [
    {
     "name": "stdout",
     "output_type": "stream",
     "text": [
      "[-0.0605; -0.0336]\n"
     ]
    }
   ],
   "source": [
    "print \"[%.4f; %.4f]\" % proportions_confint_diff(df_0.SEX.values, df_1.SEX.values)"
   ]
  },
  {
   "cell_type": "markdown",
   "metadata": {},
   "source": [
    "Отсюда следует, что доля мужчин не вернувших кредит больше, чем доля вернувших."
   ]
  },
  {
   "cell_type": "code",
   "execution_count": 138,
   "metadata": {},
   "outputs": [
    {
     "name": "stdout",
     "output_type": "stream",
     "text": [
      "4.472866521609831e-12\n"
     ]
    }
   ],
   "source": [
    "print proportions_diff_z_test(df_0.SEX.values, df_1.SEX.values, alternative='two-sided')"
   ]
  },
  {
   "cell_type": "markdown",
   "metadata": {},
   "source": [
    "Достигаемый уровень значимости мал, значит гипотеза о равенстве доли мужчин в выборках вернувших и не вернувших с \n",
    "уверенностью отвергается"
   ]
  },
  {
   "cell_type": "markdown",
   "metadata": {},
   "source": [
    "Образование (EDUCATION): Проверьте гипотезу о том, что образование не влияет на то, вернет ли человек долг. Предложите способ наглядного представления разницы в ожидаемых и наблюдаемых значениях количества человек вернувших и не вернувших долг. Например, составьте таблицу сопряженности \"образование\" на \"возврат долга\", где значением ячейки была бы разность между наблюдаемым и ожидаемым количеством человек. Как бы вы предложили модифицировать таблицу так, чтобы привести значения ячеек к одному масштабу не потеряв в интерпретируемости ? Наличие какого образования является наилучшим индикатором того, что человек отдаст долг ? наоборт, не отдаст долг ?"
   ]
  },
  {
   "cell_type": "code",
   "execution_count": 140,
   "metadata": {},
   "outputs": [],
   "source": [
    "def Cramer_correlation(table):\n",
    "    chi_stat = stats.chi2_contingency(table)[0]\n",
    "    k_min = np.min(table.shape)\n",
    "    n = np.sum(table)\n",
    "    return np.sqrt(chi_stat/(n*(k_min-1)))"
   ]
  },
  {
   "cell_type": "markdown",
   "metadata": {},
   "source": [
    "Применяем критерий хи-квадрат"
   ]
  },
  {
   "cell_type": "code",
   "execution_count": 141,
   "metadata": {},
   "outputs": [
    {
     "data": {
      "text/plain": [
       "array([[1.400e+01, 0.000e+00],\n",
       "       [8.549e+03, 2.036e+03],\n",
       "       [1.070e+04, 3.330e+03],\n",
       "       [3.680e+03, 1.237e+03],\n",
       "       [1.160e+02, 7.000e+00],\n",
       "       [2.620e+02, 1.800e+01],\n",
       "       [4.300e+01, 8.000e+00]])"
      ]
     },
     "execution_count": 141,
     "metadata": {},
     "output_type": "execute_result"
    }
   ],
   "source": [
    "cont_table_ed = numpy.zeros((7,2))\n",
    "for i in range (7):\n",
    "    for j in range (2):\n",
    "        cont_table_ed[i][j] = ((df.EDUCATION == i) & (df.default == j)).sum()\n",
    "cont_table_ed"
   ]
  },
  {
   "cell_type": "code",
   "execution_count": 142,
   "metadata": {},
   "outputs": [
    {
     "data": {
      "image/png": "[encoded data removed]",
      "text/plain": [
       "<Figure size 432x288 with 1 Axes>"
      ]
     },
     "metadata": {
      "needs_background": "light"
     },
     "output_type": "display_data"
    }
   ],
   "source": [
    "for (index, name) in enumerate([\"doctor\",\"master\",\"bachelor\",\"scholar\",\"basic\",\"other\",\"n/a\"]):\n",
    "    column_counts = map(lambda cell: float(cell), cont_table_ed[index]) \n",
    "    for (column_count,column_name) in zip(column_counts, [\"0\", \"1\"]):\n",
    "        pylab.bar(index, column_count/sum(column_counts), label = (\"%s %s (%.0f)\" % (name, column_name, column_count)))\n",
    "pylab.legend(bbox_to_anchor=(1.05, 1), loc=2, borderaxespad=0.)\n",
    "pylab.show()"
   ]
  },
  {
   "cell_type": "code",
   "execution_count": 143,
   "metadata": {},
   "outputs": [
    {
     "name": "stdout",
     "output_type": "stream",
     "text": [
      "V-Cramer 0.0738\n",
      "1.2332626245415605e-32\n"
     ]
    }
   ],
   "source": [
    "print \"V-Cramer %.4f\" % Cramer_correlation(cont_table_ed)\n",
    "print stats.chi2_contingency(cont_table_ed)[1]"
   ]
  },
  {
   "cell_type": "markdown",
   "metadata": {},
   "source": [
    "Значение коэффициента V Крамера мало, однако p-value позволяет отвергнуть гипотезу о не независимости.\n",
    "Чаще всего отдают долг люди с докторской степенью.\n",
    "А реже всего - люди со школьным образованием."
   ]
  },
  {
   "cell_type": "markdown",
   "metadata": {},
   "source": [
    "Семейное положение (MARRIAGE): Проверьте, как связан семейный статус с индикатором дефолта: нужно предложить меру, \n",
    "по которой можно измерить возможную связь этих переменных и посчитать ее значение."
   ]
  },
  {
   "cell_type": "code",
   "execution_count": 145,
   "metadata": {},
   "outputs": [
    {
     "data": {
      "text/plain": [
       "array([[4.9000e+01, 5.0000e+00],\n",
       "       [1.0453e+04, 3.2060e+03],\n",
       "       [1.2623e+04, 3.3410e+03],\n",
       "       [2.3900e+02, 8.4000e+01]])"
      ]
     },
     "execution_count": 145,
     "metadata": {},
     "output_type": "execute_result"
    }
   ],
   "source": [
    "cont_table_mar = numpy.zeros((4,2))\n",
    "for i in range (4):\n",
    "    for j in range (2):\n",
    "        cont_table_mar[i][j] = ((df.MARRIAGE == i) & (df.default == j)).sum()\n",
    "cont_table_mar"
   ]
  },
  {
   "cell_type": "code",
   "execution_count": 146,
   "metadata": {},
   "outputs": [
    {
     "data": {
      "image/png": "[encoded data removed]",
      "text/plain": [
       "<Figure size 432x288 with 1 Axes>"
      ]
     },
     "metadata": {
      "needs_background": "light"
     },
     "output_type": "display_data"
    }
   ],
   "source": [
    "for (index, name) in enumerate([\"never tell\",\"married\",\"free\",\"n/a\"]):\n",
    "    column_counts = map(lambda cell: float(cell), cont_table_ed[index]) \n",
    "    for (column_count,column_name) in zip(column_counts, [\"0\", \"1\"]):\n",
    "        pylab.bar(index, column_count/sum(column_counts), label = (\"%s %s (%.0f)\" % (name, column_name, column_count)))\n",
    "pylab.legend(bbox_to_anchor=(1.05, 1), loc=2, borderaxespad=0.)\n",
    "pylab.show()"
   ]
  },
  {
   "cell_type": "code",
   "execution_count": 147,
   "metadata": {},
   "outputs": [
    {
     "name": "stdout",
     "output_type": "stream",
     "text": [
      "V-Cramer 0.0345\n",
      "8.825862457577375e-08\n"
     ]
    }
   ],
   "source": [
    "print \"V-Cramer %.4f\" % Cramer_correlation(cont_table_mar)\n",
    "print stats.chi2_contingency(cont_table_mar)[1]"
   ]
  },
  {
   "cell_type": "markdown",
   "metadata": {},
   "source": [
    "Посчитали связь между семейным положением и возвратом/невозвратом с помощью коэффициента Крамера, а достигаемый уровень \n",
    "значимости с помощью коэффициента хи-квадрат. Коэффициент получился малым, однако гипотезу о независимости этих двух\n",
    "признаков мы отвергаем ввиду малости p-value. В конечном итоге получаем, что семейное положение влияет на возврат, но слабо."
   ]
  },
  {
   "cell_type": "markdown",
   "metadata": {},
   "source": [
    "Возраст (AGE): Относительно двух групп людей вернувших и не вернувших кредит проверьте следующие гипотезы: a) о равенстве медианных значений возрастов людей b) о равенстве распределений с помощью одного из подходящих непараметрических критериев проверки равенства средних. Значимы ли полученные результаты с практической точки зрения ?"
   ]
  },
  {
   "cell_type": "code",
   "execution_count": 148,
   "metadata": {},
   "outputs": [
    {
     "data": {
      "text/plain": [
       "([array([4.440e+02, 1.511e+03, 1.887e+03, 2.287e+03, 2.413e+03, 1.921e+03,\n",
       "         1.862e+03, 1.741e+03, 1.562e+03, 1.438e+03, 1.248e+03, 1.058e+03,\n",
       "         9.140e+02, 7.430e+02, 3.330e+02, 5.620e+02, 4.770e+02, 3.430e+02,\n",
       "         2.240e+02, 1.530e+02, 7.900e+01, 6.000e+01, 4.100e+01, 2.900e+01,\n",
       "         1.600e+01, 1.100e+01, 3.000e+00, 3.000e+00, 0.000e+00, 1.000e+00]),\n",
       "  array([183., 547., 555., 599., 587., 454., 446., 480., 423., 386., 370.,\n",
       "         312., 273., 224., 119., 189., 152., 113.,  76.,  52.,  44.,  15.,\n",
       "          14.,  12.,   4.,   2.,   4.,   1.,   0.,   0.])],\n",
       " array([21.        , 22.93333333, 24.86666667, 26.8       , 28.73333333,\n",
       "        30.66666667, 32.6       , 34.53333333, 36.46666667, 38.4       ,\n",
       "        40.33333333, 42.26666667, 44.2       , 46.13333333, 48.06666667,\n",
       "        50.        , 51.93333333, 53.86666667, 55.8       , 57.73333333,\n",
       "        59.66666667, 61.6       , 63.53333333, 65.46666667, 67.4       ,\n",
       "        69.33333333, 71.26666667, 73.2       , 75.13333333, 77.06666667,\n",
       "        79.        ]),\n",
       " <a list of 2 Lists of Patches objects>)"
      ]
     },
     "execution_count": 148,
     "metadata": {},
     "output_type": "execute_result"
    },
    {
     "data": {
      "image/png": "[encoded data removed]",
      "text/plain": [
       "<Figure size 432x288 with 1 Axes>"
      ]
     },
     "metadata": {
      "needs_background": "light"
     },
     "output_type": "display_data"
    }
   ],
   "source": [
    "pylab.hist([df_0.AGE, df_1.AGE], 30, label = [\"0\", \"1\"])"
   ]
  },
  {
   "cell_type": "markdown",
   "metadata": {},
   "source": [
    "Визуально распределения кажутся похожими."
   ]
  },
  {
   "cell_type": "code",
   "execution_count": 149,
   "metadata": {},
   "outputs": [
    {
     "name": "stdout",
     "output_type": "stream",
     "text": [
      "age_1 median: 34.0000\tConfidence interval: [34. 35.]\n",
      "age_0 median: 34.0000\tConfidence interval: [34. 34.]\n",
      "Confidence interval for difference  [-1.  0.]\n",
      "Permutation criterion p-value: 1.0000\n"
     ]
    }
   ],
   "source": [
    "age_1_confint = median_conf_int(df_1[\"AGE\"].values, n_samples, alpha)\n",
    "age_0_confint = median_conf_int(df_0[\"AGE\"].values, n_samples, alpha)\n",
    "median_delta_ages_confint = diff_median_conf_int(df_0[\"AGE\"].values, df_1[\"AGE\"].values, n_samples, alpha)\n",
    "print \"age_1 median: %.4f\\tConfidence interval: %s\" % age_1_confint\n",
    "print \"age_0 median: %.4f\\tConfidence interval: %s\" % age_0_confint\n",
    "print \"Confidence interval for difference  %s\" % median_delta_ages_confint\n",
    "print \"Permutation criterion p-value: %.4f\" % permutation_test(df_1[\"AGE\"].values, df_0[\"AGE\"].values, \n",
    "                                                               max_permutations=1000, alternative=\"two-sided\")"
   ]
  },
  {
   "cell_type": "markdown",
   "metadata": {},
   "source": [
    "Интервалы для медиан пересекаются, интервал для их разности содержит 0. Гипотеза о равенстве распределений не отвергается,\n",
    "так как значение p-value велико."
   ]
  },
  {
   "cell_type": "markdown",
   "metadata": {},
   "source": [
    "Однако в конечном счете хочется сделать вывод, что рассмотренные признаки не самые влиятельные в вопросе возврата долга. Скорее \n",
    "всего более важным является доход и наличие работы у клиента."
   ]
  },
  {
   "cell_type": "code",
   "execution_count": null,
   "metadata": {},
   "outputs": [],
   "source": []
  }
 ],
 "metadata": {
  "kernelspec": {
   "display_name": "Python 2",
   "language": "python",
   "name": "python2"
  },
  "language_info": {
   "codemirror_mode": {
    "name": "ipython",
    "version": 2
   },
   "file_extension": ".py",
   "mimetype": "text/x-python",
   "name": "python",
   "nbconvert_exporter": "python",
   "pygments_lexer": "ipython2",
   "version": "2.7.16"
  }
 },
 "nbformat": 4,
 "nbformat_minor": 2
}
